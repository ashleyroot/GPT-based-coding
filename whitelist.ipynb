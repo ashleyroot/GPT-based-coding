{
 "cells": [
  {
   "cell_type": "code",
   "execution_count": 11,
   "metadata": {},
   "outputs": [
    {
     "name": "stdout",
     "output_type": "stream",
     "text": [
      "在指定路径中存在的 ab 字段数量: 74\n",
      "在指定路径中存在的 ab 字段列表: ['001000', '003000', '004000', '005000', '006000', '008000', '009000', '010002', '010004', '010006', '010007', '010008', '010009', '012002', '012003', '012004', '012005', '012006', '012007', '012008', '013001', '013002', '013003', '013004', '013005', '013006', '013007', '013008', '013009', '014002', '014003', '014004', '015001', '015002', '015004', '015005', '015006', '015008', '016002', '016003', '016004', '016006', '016007', '017005', '018002', '018003', '018004', '018006', '018008', '018009', '019001', '019002', '019003', '019004', '020001', '020002', '020003', '020004', '020005', '020006', '020008', '020009', '021002', '021003', '021004', '021006', '021007', '022002', '022003', '022004', '022006', '022007', '023005', '023007']\n"
     ]
    }
   ],
   "source": [
    "import os\n",
    "import json\n",
    "\n",
    "# 定义 a 数组和 b 字段的范围\n",
    "a_range = range(0, 28)\n",
    "b_range = range(0, 12)\n",
    "\n",
    "# 拼接并检查在指定路径中存在的 ab 字段\n",
    "found = []\n",
    "count = 0  # 用于跟踪在指定路径中存在的 ab 字段的数量\n",
    "for a in a_range:\n",
    "    for b in b_range:\n",
    "        ab = f\"{a:03d}{b:03d}\"\n",
    "        file_path = f\"/path_to_the_file/{ab}.jpg\"\n",
    "        if os.path.exists(file_path):\n",
    "            found.append(ab)\n",
    "            count += 1\n",
    "\n",
    "# 输出结果\n",
    "print(\"在指定路径中存在的 ab 字段数量:\", count)\n",
    "print(\"在指定路径中存在的 ab 字段列表:\", found)\n",
    "\n",
    "# # 将结果保存到文件中\n",
    "# output_file = \"/path_to_the_file/found.json\"\n",
    "# with open(output_file, \"w\") as file:\n",
    "#     json.dump(found, file)\n",
    "\n",
    "# print(\"结果已保存到文件:\", output_file)\n"
   ]
  }
 ],
 "metadata": {
  "kernelspec": {
   "display_name": "Python 3",
   "language": "python",
   "name": "python3"
  },
  "language_info": {
   "codemirror_mode": {
    "name": "ipython",
    "version": 3
   },
   "file_extension": ".py",
   "mimetype": "text/x-python",
   "name": "python",
   "nbconvert_exporter": "python",
   "pygments_lexer": "ipython3",
   "version": "3.9.6"
  },
  "orig_nbformat": 4
 },
 "nbformat": 4,
 "nbformat_minor": 2
}
